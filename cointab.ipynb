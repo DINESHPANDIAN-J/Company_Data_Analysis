{
 "cells": [
  {
   "cell_type": "markdown",
   "metadata": {},
   "source": [
    "**IMPORTING LIBRARIES:**"
   ]
  },
  {
   "cell_type": "code",
   "execution_count": 257,
   "metadata": {},
   "outputs": [],
   "source": [
    "import pandas as pd\n",
    "import numpy as np\n",
    "import seaborn as sn\n",
    "import matplotlib.pyplot as plt"
   ]
  },
  {
   "cell_type": "markdown",
   "metadata": {},
   "source": [
    "**Reading Company_X Reports:**"
   ]
  },
  {
   "cell_type": "code",
   "execution_count": 258,
   "metadata": {},
   "outputs": [
    {
     "data": {
      "text/html": [
       "<div>\n",
       "<style scoped>\n",
       "    .dataframe tbody tr th:only-of-type {\n",
       "        vertical-align: middle;\n",
       "    }\n",
       "\n",
       "    .dataframe tbody tr th {\n",
       "        vertical-align: top;\n",
       "    }\n",
       "\n",
       "    .dataframe thead th {\n",
       "        text-align: right;\n",
       "    }\n",
       "</style>\n",
       "<table border=\"1\" class=\"dataframe\">\n",
       "  <thead>\n",
       "    <tr style=\"text-align: right;\">\n",
       "      <th></th>\n",
       "      <th>ExternOrderNo</th>\n",
       "      <th>SKU</th>\n",
       "      <th>Order Qty</th>\n",
       "      <th>Payment Mode</th>\n",
       "      <th>Item Price(Per Qty.)</th>\n",
       "    </tr>\n",
       "  </thead>\n",
       "  <tbody>\n",
       "    <tr>\n",
       "      <th>0</th>\n",
       "      <td>2001827036</td>\n",
       "      <td>8904223818706</td>\n",
       "      <td>1</td>\n",
       "      <td>COD</td>\n",
       "      <td>233</td>\n",
       "    </tr>\n",
       "    <tr>\n",
       "      <th>1</th>\n",
       "      <td>2001827036</td>\n",
       "      <td>8904223819093</td>\n",
       "      <td>1</td>\n",
       "      <td>COD</td>\n",
       "      <td>233</td>\n",
       "    </tr>\n",
       "    <tr>\n",
       "      <th>2</th>\n",
       "      <td>2001827036</td>\n",
       "      <td>8904223819109</td>\n",
       "      <td>1</td>\n",
       "      <td>COD</td>\n",
       "      <td>233</td>\n",
       "    </tr>\n",
       "    <tr>\n",
       "      <th>3</th>\n",
       "      <td>2001827036</td>\n",
       "      <td>8904223818430</td>\n",
       "      <td>1</td>\n",
       "      <td>COD</td>\n",
       "      <td>470</td>\n",
       "    </tr>\n",
       "    <tr>\n",
       "      <th>4</th>\n",
       "      <td>2001827036</td>\n",
       "      <td>8904223819277</td>\n",
       "      <td>1</td>\n",
       "      <td>COD</td>\n",
       "      <td>233</td>\n",
       "    </tr>\n",
       "  </tbody>\n",
       "</table>\n",
       "</div>"
      ],
      "text/plain": [
       "   ExternOrderNo            SKU  Order Qty Payment Mode  Item Price(Per Qty.)\n",
       "0     2001827036  8904223818706          1          COD                   233\n",
       "1     2001827036  8904223819093          1          COD                   233\n",
       "2     2001827036  8904223819109          1          COD                   233\n",
       "3     2001827036  8904223818430          1          COD                   470\n",
       "4     2001827036  8904223819277          1          COD                   233"
      ]
     },
     "execution_count": 258,
     "metadata": {},
     "output_type": "execute_result"
    }
   ],
   "source": [
    "x_order_report=pd.read_excel(\"Company X - Order Report.xlsx\")\n",
    "x_order_report.head()"
   ]
  },
  {
   "cell_type": "code",
   "execution_count": 259,
   "metadata": {},
   "outputs": [
    {
     "data": {
      "text/html": [
       "<div>\n",
       "<style scoped>\n",
       "    .dataframe tbody tr th:only-of-type {\n",
       "        vertical-align: middle;\n",
       "    }\n",
       "\n",
       "    .dataframe tbody tr th {\n",
       "        vertical-align: top;\n",
       "    }\n",
       "\n",
       "    .dataframe thead th {\n",
       "        text-align: right;\n",
       "    }\n",
       "</style>\n",
       "<table border=\"1\" class=\"dataframe\">\n",
       "  <thead>\n",
       "    <tr style=\"text-align: right;\">\n",
       "      <th></th>\n",
       "      <th>Warehouse Pincode</th>\n",
       "      <th>Customer Pincode</th>\n",
       "      <th>Zone</th>\n",
       "    </tr>\n",
       "  </thead>\n",
       "  <tbody>\n",
       "    <tr>\n",
       "      <th>0</th>\n",
       "      <td>121003</td>\n",
       "      <td>507101</td>\n",
       "      <td>d</td>\n",
       "    </tr>\n",
       "    <tr>\n",
       "      <th>1</th>\n",
       "      <td>121003</td>\n",
       "      <td>486886</td>\n",
       "      <td>d</td>\n",
       "    </tr>\n",
       "    <tr>\n",
       "      <th>2</th>\n",
       "      <td>121003</td>\n",
       "      <td>532484</td>\n",
       "      <td>d</td>\n",
       "    </tr>\n",
       "    <tr>\n",
       "      <th>3</th>\n",
       "      <td>121003</td>\n",
       "      <td>143001</td>\n",
       "      <td>b</td>\n",
       "    </tr>\n",
       "    <tr>\n",
       "      <th>4</th>\n",
       "      <td>121003</td>\n",
       "      <td>515591</td>\n",
       "      <td>d</td>\n",
       "    </tr>\n",
       "  </tbody>\n",
       "</table>\n",
       "</div>"
      ],
      "text/plain": [
       "   Warehouse Pincode  Customer Pincode Zone\n",
       "0             121003            507101    d\n",
       "1             121003            486886    d\n",
       "2             121003            532484    d\n",
       "3             121003            143001    b\n",
       "4             121003            515591    d"
      ]
     },
     "execution_count": 259,
     "metadata": {},
     "output_type": "execute_result"
    }
   ],
   "source": [
    "x_pincode_zone=pd.read_excel(\"Company X - Pincode Zones.xlsx\")\n",
    "x_pincode_zone.head()\n"
   ]
  },
  {
   "cell_type": "code",
   "execution_count": 260,
   "metadata": {},
   "outputs": [
    {
     "data": {
      "text/html": [
       "<div>\n",
       "<style scoped>\n",
       "    .dataframe tbody tr th:only-of-type {\n",
       "        vertical-align: middle;\n",
       "    }\n",
       "\n",
       "    .dataframe tbody tr th {\n",
       "        vertical-align: top;\n",
       "    }\n",
       "\n",
       "    .dataframe thead th {\n",
       "        text-align: right;\n",
       "    }\n",
       "</style>\n",
       "<table border=\"1\" class=\"dataframe\">\n",
       "  <thead>\n",
       "    <tr style=\"text-align: right;\">\n",
       "      <th></th>\n",
       "      <th>SKU</th>\n",
       "      <th>Weight (g)</th>\n",
       "    </tr>\n",
       "  </thead>\n",
       "  <tbody>\n",
       "    <tr>\n",
       "      <th>0</th>\n",
       "      <td>8904223815682</td>\n",
       "      <td>210</td>\n",
       "    </tr>\n",
       "    <tr>\n",
       "      <th>1</th>\n",
       "      <td>8904223815859</td>\n",
       "      <td>165</td>\n",
       "    </tr>\n",
       "    <tr>\n",
       "      <th>2</th>\n",
       "      <td>8904223815866</td>\n",
       "      <td>113</td>\n",
       "    </tr>\n",
       "    <tr>\n",
       "      <th>3</th>\n",
       "      <td>8904223815873</td>\n",
       "      <td>65</td>\n",
       "    </tr>\n",
       "    <tr>\n",
       "      <th>4</th>\n",
       "      <td>8904223816214</td>\n",
       "      <td>120</td>\n",
       "    </tr>\n",
       "  </tbody>\n",
       "</table>\n",
       "</div>"
      ],
      "text/plain": [
       "             SKU  Weight (g)\n",
       "0  8904223815682         210\n",
       "1  8904223815859         165\n",
       "2  8904223815866         113\n",
       "3  8904223815873          65\n",
       "4  8904223816214         120"
      ]
     },
     "execution_count": 260,
     "metadata": {},
     "output_type": "execute_result"
    }
   ],
   "source": [
    "x_sku=pd.read_excel(\"Company X - SKU Master.xlsx\")\n",
    "x_sku.head()"
   ]
  },
  {
   "cell_type": "markdown",
   "metadata": {},
   "source": [
    "**Reading Courier Company Reports:**"
   ]
  },
  {
   "cell_type": "code",
   "execution_count": 261,
   "metadata": {},
   "outputs": [
    {
     "data": {
      "text/html": [
       "<div>\n",
       "<style scoped>\n",
       "    .dataframe tbody tr th:only-of-type {\n",
       "        vertical-align: middle;\n",
       "    }\n",
       "\n",
       "    .dataframe tbody tr th {\n",
       "        vertical-align: top;\n",
       "    }\n",
       "\n",
       "    .dataframe thead th {\n",
       "        text-align: right;\n",
       "    }\n",
       "</style>\n",
       "<table border=\"1\" class=\"dataframe\">\n",
       "  <thead>\n",
       "    <tr style=\"text-align: right;\">\n",
       "      <th></th>\n",
       "      <th>AWB Code</th>\n",
       "      <th>Order ID</th>\n",
       "      <th>Charged Weight</th>\n",
       "      <th>Warehouse Pincode</th>\n",
       "      <th>Customer Pincode</th>\n",
       "      <th>Zone</th>\n",
       "      <th>Type of Shipment</th>\n",
       "      <th>Billing Amount (Rs.)</th>\n",
       "    </tr>\n",
       "  </thead>\n",
       "  <tbody>\n",
       "    <tr>\n",
       "      <th>0</th>\n",
       "      <td>1091117222124</td>\n",
       "      <td>2001806232</td>\n",
       "      <td>1.30</td>\n",
       "      <td>121003</td>\n",
       "      <td>507101</td>\n",
       "      <td>d</td>\n",
       "      <td>Forward charges</td>\n",
       "      <td>140.0</td>\n",
       "    </tr>\n",
       "    <tr>\n",
       "      <th>1</th>\n",
       "      <td>1091117222194</td>\n",
       "      <td>2001806273</td>\n",
       "      <td>1.00</td>\n",
       "      <td>121003</td>\n",
       "      <td>486886</td>\n",
       "      <td>d</td>\n",
       "      <td>Forward charges</td>\n",
       "      <td>101.2</td>\n",
       "    </tr>\n",
       "    <tr>\n",
       "      <th>2</th>\n",
       "      <td>1091117222931</td>\n",
       "      <td>2001806408</td>\n",
       "      <td>2.50</td>\n",
       "      <td>121003</td>\n",
       "      <td>532484</td>\n",
       "      <td>d</td>\n",
       "      <td>Forward charges</td>\n",
       "      <td>224.6</td>\n",
       "    </tr>\n",
       "    <tr>\n",
       "      <th>3</th>\n",
       "      <td>1091117223244</td>\n",
       "      <td>2001806458</td>\n",
       "      <td>1.00</td>\n",
       "      <td>121003</td>\n",
       "      <td>143001</td>\n",
       "      <td>b</td>\n",
       "      <td>Forward charges</td>\n",
       "      <td>61.3</td>\n",
       "    </tr>\n",
       "    <tr>\n",
       "      <th>4</th>\n",
       "      <td>1091117229345</td>\n",
       "      <td>2001807012</td>\n",
       "      <td>0.15</td>\n",
       "      <td>121003</td>\n",
       "      <td>515591</td>\n",
       "      <td>d</td>\n",
       "      <td>Forward charges</td>\n",
       "      <td>45.4</td>\n",
       "    </tr>\n",
       "  </tbody>\n",
       "</table>\n",
       "</div>"
      ],
      "text/plain": [
       "        AWB Code    Order ID  Charged Weight  Warehouse Pincode  \\\n",
       "0  1091117222124  2001806232            1.30             121003   \n",
       "1  1091117222194  2001806273            1.00             121003   \n",
       "2  1091117222931  2001806408            2.50             121003   \n",
       "3  1091117223244  2001806458            1.00             121003   \n",
       "4  1091117229345  2001807012            0.15             121003   \n",
       "\n",
       "   Customer Pincode Zone Type of Shipment  Billing Amount (Rs.)  \n",
       "0            507101    d  Forward charges                 140.0  \n",
       "1            486886    d  Forward charges                 101.2  \n",
       "2            532484    d  Forward charges                 224.6  \n",
       "3            143001    b  Forward charges                  61.3  \n",
       "4            515591    d  Forward charges                  45.4  "
      ]
     },
     "execution_count": 261,
     "metadata": {},
     "output_type": "execute_result"
    }
   ],
   "source": [
    "courier_invoice=pd.read_excel(\"Courier Company - Invoice.xlsx\") #Reading Courier company reports\n",
    "courier_invoice.head()"
   ]
  },
  {
   "cell_type": "code",
   "execution_count": 262,
   "metadata": {},
   "outputs": [
    {
     "data": {
      "text/html": [
       "<div>\n",
       "<style scoped>\n",
       "    .dataframe tbody tr th:only-of-type {\n",
       "        vertical-align: middle;\n",
       "    }\n",
       "\n",
       "    .dataframe tbody tr th {\n",
       "        vertical-align: top;\n",
       "    }\n",
       "\n",
       "    .dataframe thead th {\n",
       "        text-align: right;\n",
       "    }\n",
       "</style>\n",
       "<table border=\"1\" class=\"dataframe\">\n",
       "  <thead>\n",
       "    <tr style=\"text-align: right;\">\n",
       "      <th></th>\n",
       "      <th>Zone</th>\n",
       "      <th>Weight Slabs</th>\n",
       "      <th>Forward Fixed Charge</th>\n",
       "      <th>Forward Additional Weight Slab Charge</th>\n",
       "      <th>RTO Fixed Charge</th>\n",
       "      <th>RTO Additional Weight Slab Charge</th>\n",
       "    </tr>\n",
       "  </thead>\n",
       "  <tbody>\n",
       "    <tr>\n",
       "      <th>0</th>\n",
       "      <td>A</td>\n",
       "      <td>0.25</td>\n",
       "      <td>29.5</td>\n",
       "      <td>23.6</td>\n",
       "      <td>13.6</td>\n",
       "      <td>23.6</td>\n",
       "    </tr>\n",
       "    <tr>\n",
       "      <th>1</th>\n",
       "      <td>B</td>\n",
       "      <td>0.50</td>\n",
       "      <td>33.0</td>\n",
       "      <td>28.3</td>\n",
       "      <td>20.5</td>\n",
       "      <td>28.3</td>\n",
       "    </tr>\n",
       "    <tr>\n",
       "      <th>2</th>\n",
       "      <td>C</td>\n",
       "      <td>0.75</td>\n",
       "      <td>40.1</td>\n",
       "      <td>38.9</td>\n",
       "      <td>31.9</td>\n",
       "      <td>38.9</td>\n",
       "    </tr>\n",
       "    <tr>\n",
       "      <th>3</th>\n",
       "      <td>D</td>\n",
       "      <td>1.25</td>\n",
       "      <td>45.4</td>\n",
       "      <td>44.8</td>\n",
       "      <td>41.3</td>\n",
       "      <td>44.8</td>\n",
       "    </tr>\n",
       "    <tr>\n",
       "      <th>4</th>\n",
       "      <td>E</td>\n",
       "      <td>1.50</td>\n",
       "      <td>56.6</td>\n",
       "      <td>55.5</td>\n",
       "      <td>50.7</td>\n",
       "      <td>55.5</td>\n",
       "    </tr>\n",
       "  </tbody>\n",
       "</table>\n",
       "</div>"
      ],
      "text/plain": [
       "  Zone  Weight Slabs  Forward Fixed Charge  \\\n",
       "0    A          0.25                  29.5   \n",
       "1    B          0.50                  33.0   \n",
       "2    C          0.75                  40.1   \n",
       "3    D          1.25                  45.4   \n",
       "4    E          1.50                  56.6   \n",
       "\n",
       "   Forward Additional Weight Slab Charge  RTO Fixed Charge  \\\n",
       "0                                   23.6              13.6   \n",
       "1                                   28.3              20.5   \n",
       "2                                   38.9              31.9   \n",
       "3                                   44.8              41.3   \n",
       "4                                   55.5              50.7   \n",
       "\n",
       "   RTO Additional Weight Slab Charge  \n",
       "0                               23.6  \n",
       "1                               28.3  \n",
       "2                               38.9  \n",
       "3                               44.8  \n",
       "4                               55.5  "
      ]
     },
     "execution_count": 262,
     "metadata": {},
     "output_type": "execute_result"
    }
   ],
   "source": [
    "courier_rates=pd.read_excel(\"Courier Company - Rates.xlsx\")\n",
    "courier_rates.head()"
   ]
  },
  {
   "cell_type": "markdown",
   "metadata": {},
   "source": [
    "**Sample output:**"
   ]
  },
  {
   "cell_type": "code",
   "execution_count": 263,
   "metadata": {},
   "outputs": [
    {
     "data": {
      "text/html": [
       "<div>\n",
       "<style scoped>\n",
       "    .dataframe tbody tr th:only-of-type {\n",
       "        vertical-align: middle;\n",
       "    }\n",
       "\n",
       "    .dataframe tbody tr th {\n",
       "        vertical-align: top;\n",
       "    }\n",
       "\n",
       "    .dataframe thead th {\n",
       "        text-align: right;\n",
       "    }\n",
       "</style>\n",
       "<table border=\"1\" class=\"dataframe\">\n",
       "  <thead>\n",
       "    <tr style=\"text-align: right;\">\n",
       "      <th></th>\n",
       "      <th>Order ID</th>\n",
       "      <th>AWB Number</th>\n",
       "      <th>Total weight as per X (KG)</th>\n",
       "      <th>Weight slab as per X (KG)</th>\n",
       "      <th>Total weight as per Courier Company (KG)</th>\n",
       "      <th>Weight slab charged by Courier Company (KG)</th>\n",
       "      <th>Delivery Zone as per X</th>\n",
       "      <th>Delivery Zone charged by Courier Company</th>\n",
       "      <th>Expected Charge as per X (Rs.)</th>\n",
       "      <th>Charges Billed by Courier Company (Rs.)</th>\n",
       "      <th>Difference Between Expected Charges and Billed Charges (Rs.)</th>\n",
       "    </tr>\n",
       "  </thead>\n",
       "  <tbody>\n",
       "    <tr>\n",
       "      <th>0</th>\n",
       "      <td>2001806232</td>\n",
       "      <td>1091117222124</td>\n",
       "      <td>1.30</td>\n",
       "      <td>2.5</td>\n",
       "      <td>1.30</td>\n",
       "      <td>2.5</td>\n",
       "      <td>D</td>\n",
       "      <td>D</td>\n",
       "      <td>90.2</td>\n",
       "      <td>90.2</td>\n",
       "      <td>0.0</td>\n",
       "    </tr>\n",
       "    <tr>\n",
       "      <th>1</th>\n",
       "      <td>2001806210</td>\n",
       "      <td>1091117221940</td>\n",
       "      <td>0.22</td>\n",
       "      <td>0.5</td>\n",
       "      <td>2.92</td>\n",
       "      <td>3.0</td>\n",
       "      <td>B</td>\n",
       "      <td>B</td>\n",
       "      <td>33.0</td>\n",
       "      <td>174.5</td>\n",
       "      <td>-141.5</td>\n",
       "    </tr>\n",
       "  </tbody>\n",
       "</table>\n",
       "</div>"
      ],
      "text/plain": [
       "     Order ID     AWB Number  Total weight as per X (KG)  \\\n",
       "0  2001806232  1091117222124                        1.30   \n",
       "1  2001806210  1091117221940                        0.22   \n",
       "\n",
       "   Weight slab as per X (KG)  Total weight as per Courier Company (KG)  \\\n",
       "0                        2.5                                      1.30   \n",
       "1                        0.5                                      2.92   \n",
       "\n",
       "   Weight slab charged by Courier Company (KG) Delivery Zone as per X  \\\n",
       "0                                          2.5                      D   \n",
       "1                                          3.0                      B   \n",
       "\n",
       "  Delivery Zone charged by Courier Company  Expected Charge as per X (Rs.)  \\\n",
       "0                                        D                            90.2   \n",
       "1                                        B                            33.0   \n",
       "\n",
       "   Charges Billed by Courier Company (Rs.)   \\\n",
       "0                                      90.2   \n",
       "1                                     174.5   \n",
       "\n",
       "   Difference Between Expected Charges and Billed Charges (Rs.)  \n",
       "0                                                0.0             \n",
       "1                                             -141.5             "
      ]
     },
     "execution_count": 263,
     "metadata": {},
     "output_type": "execute_result"
    }
   ],
   "source": [
    "sample_result=pd.read_excel(\"Expected_Result.xlsx\",sheet_name=\"Calculations\") #reading calculation sheet in Expected_Result.xlsx\n",
    "pd.set_option('display.width', None) \n",
    "sample_result"
   ]
  },
  {
   "cell_type": "code",
   "execution_count": 264,
   "metadata": {},
   "outputs": [
    {
     "name": "stdout",
     "output_type": "stream",
     "text": [
      "     ExternOrderNo            SKU  Order Qty Payment Mode  \\\n",
      "0       2001827036  8904223818706          1          COD   \n",
      "1       2001821995  8904223818706          1      Prepaid   \n",
      "2       2001819252  8904223818706          1      Prepaid   \n",
      "3       2001816996  8904223818706          1      Prepaid   \n",
      "4       2001814580  8904223818706          1          COD   \n",
      "..             ...            ...        ...          ...   \n",
      "396     2001806616  8904223819123          1          COD   \n",
      "397     2001806567  8904223815804          1          COD   \n",
      "398     2001806567  8904223818577          1          COD   \n",
      "399     2001806408  8904223819437          2      Prepaid   \n",
      "400     2001806232  8904223818645          6          COD   \n",
      "\n",
      "     Item Price(Per Qty.)  Weight (g)  \n",
      "0                     233         127  \n",
      "1                     233         127  \n",
      "2                     233         127  \n",
      "3                     233         127  \n",
      "4                     233         127  \n",
      "..                    ...         ...  \n",
      "396                   442         250  \n",
      "397                   834         160  \n",
      "398                   946         150  \n",
      "399                  1843         552  \n",
      "400                  1673         137  \n",
      "\n",
      "[401 rows x 6 columns]\n"
     ]
    }
   ],
   "source": [
    "df=pd.merge(x_order_report,x_sku,on=\"SKU\",how=\"inner\")\n",
    "print(df)"
   ]
  },
  {
   "cell_type": "markdown",
   "metadata": {},
   "source": [
    "**Changing  Weights into KG**"
   ]
  },
  {
   "cell_type": "code",
   "execution_count": 265,
   "metadata": {},
   "outputs": [],
   "source": [
    "df[\"Weight (kg)\"]=df[\"Weight (g)\"]/1000"
   ]
  },
  {
   "cell_type": "code",
   "execution_count": 266,
   "metadata": {},
   "outputs": [],
   "source": [
    "df[\"Total Price as per X (KG)\"]=df[\"Order Qty\"]*df[\"Item Price(Per Qty.)\"] #Calculated the total price"
   ]
  },
  {
   "cell_type": "code",
   "execution_count": 267,
   "metadata": {},
   "outputs": [],
   "source": [
    "df[\"Total weight as per X (KG)\"]=df[\"Order Qty\"]*df[\"Weight (kg)\"]  #Calculated the Total Weight"
   ]
  },
  {
   "cell_type": "code",
   "execution_count": 268,
   "metadata": {},
   "outputs": [],
   "source": [
    "df.rename(columns={\"ExternOrderNo\":\"Order ID\"},inplace=True)    #renaming column to merge."
   ]
  },
  {
   "cell_type": "code",
   "execution_count": 269,
   "metadata": {},
   "outputs": [],
   "source": [
    "x_pincode_zone.rename(columns={\"Zone\":\"Delivery Zone as per X\"}, inplace=True)  #renaming column to merge."
   ]
  },
  {
   "cell_type": "markdown",
   "metadata": {},
   "source": [
    "**Merging datasets:**"
   ]
  },
  {
   "cell_type": "code",
   "execution_count": 270,
   "metadata": {},
   "outputs": [],
   "source": [
    "df2=pd.merge(df,courier_invoice,on=\"Order ID\",how=\"inner\")"
   ]
  },
  {
   "cell_type": "code",
   "execution_count": 271,
   "metadata": {},
   "outputs": [],
   "source": [
    "df3=pd.merge(df2,x_pincode_zone, on=\"Customer Pincode\",how=\"inner\")"
   ]
  },
  {
   "cell_type": "markdown",
   "metadata": {},
   "source": [
    "**Create a function to assaign Permissible Slots**"
   ]
  },
  {
   "cell_type": "code",
   "execution_count": 272,
   "metadata": {},
   "outputs": [],
   "source": [
    "# weight slab assaign\n",
    "def weight_slab_assaign(zone):\n",
    "    if zone == \"a\":\n",
    "        return 0.25\n",
    "    elif zone == \"b\":\n",
    "        return 0.5\n",
    "    elif zone == \"c\":\n",
    "        return 0.75\n",
    "    elif zone == \"d\":\n",
    "        return 1.25\n",
    "    elif zone == \"e\":\n",
    "        return 1.5"
   ]
  },
  {
   "cell_type": "code",
   "execution_count": 273,
   "metadata": {},
   "outputs": [],
   "source": [
    "df3[\"All_Weight slab\"]=df3[\"Delivery Zone as per X\"].apply(weight_slab_assaign)"
   ]
  },
  {
   "cell_type": "markdown",
   "metadata": {},
   "source": [
    "**Calculating Sufficient Slabs:**"
   ]
  },
  {
   "cell_type": "code",
   "execution_count": 274,
   "metadata": {},
   "outputs": [],
   "source": [
    "df3[\"Weight slab as per X (KG)\"]=((df3[\"Total weight as per X (KG)\"]//df3[\"All_Weight slab\"])+1)*df3[\"All_Weight slab\"]\n"
   ]
  },
  {
   "cell_type": "code",
   "execution_count": 275,
   "metadata": {},
   "outputs": [],
   "source": [
    "df3[\"C_All_Weight slab\"]=df3[\"Zone\"].apply(weight_slab_assaign)"
   ]
  },
  {
   "cell_type": "markdown",
   "metadata": {},
   "source": [
    "**Calculating Sufficient Slabs:**"
   ]
  },
  {
   "cell_type": "code",
   "execution_count": 276,
   "metadata": {},
   "outputs": [],
   "source": [
    "df3[\"Weight slab charged by Courier Company (KG)\"]=((df3[\"Charged Weight\"]//df3[\"C_All_Weight slab\"])+1)*df3[\"C_All_Weight slab\"]"
   ]
  },
  {
   "cell_type": "markdown",
   "metadata": {},
   "source": [
    "**Calculating No of Additional Slabs:**"
   ]
  },
  {
   "cell_type": "code",
   "execution_count": 277,
   "metadata": {},
   "outputs": [],
   "source": [
    "df3[\"Additional_Slabs_asper_X\"]=(df3[\"Weight slab as per X (KG)\"]/df3[\"All_Weight slab\"])-1"
   ]
  },
  {
   "cell_type": "code",
   "execution_count": 278,
   "metadata": {},
   "outputs": [
    {
     "data": {
      "text/plain": [
       "0.0    559\n",
       "1.0      8\n",
       "Name: Additional_Slabs_asper_X, dtype: int64"
      ]
     },
     "execution_count": 278,
     "metadata": {},
     "output_type": "execute_result"
    }
   ],
   "source": [
    "df3[\"Additional_Slabs_asper_X\"].value_counts()"
   ]
  },
  {
   "cell_type": "markdown",
   "metadata": {},
   "source": [
    "**Calculating Charge as per company:**"
   ]
  },
  {
   "cell_type": "code",
   "execution_count": 279,
   "metadata": {},
   "outputs": [],
   "source": [
    "def X_charge(row):\n",
    "    if row[\"Delivery Zone as per X\"]==\"a\":\n",
    "        if row[\"Type of Shipment\"]==\"Forward charges\":\n",
    "            charge = 29.5 + (row[\"Additional_Slabs_asper_X\"] * 23.6)\n",
    "        elif row[\"Type of Shipment\"]==\"Forward and RTO charges\":\n",
    "            charge = (29.5 + (row[\"Additional_Slabs_asper_X\"] * 23.6)) + (13.6 + row[\"Additional_Slabs_asper_X\"] * 23.6)\n",
    "    if row[\"Delivery Zone as per X\"]==\"b\":\n",
    "        if row[\"Type of Shipment\"]==\"Forward charges\":\n",
    "            charge = 33 + (row[\"Additional_Slabs_asper_X\"] * 28.3)\n",
    "        elif row[\"Type of Shipment\"]==\"Forward and RTO charges\":\n",
    "            charge = (33 + (row[\"Additional_Slabs_asper_X\"] * 28.3)) + (20.5 + row[\"Additional_Slabs_asper_X\"] * 28.3)\n",
    "    if row[\"Delivery Zone as per X\"]==\"c\":\n",
    "        if row[\"Type of Shipment\"]==\"Forward charges\":\n",
    "            charge = 40.1 + (row[\"Additional_Slabs_asper_X\"] * 38.9)\n",
    "        elif row[\"Type of Shipment\"]==\"Forward and RTO charges\":\n",
    "            charge = (40.1 + (row[\"Additional_Slabs_asper_X\"] * 38.9)) + (31.9 + row[\"Additional_Slabs_asper_X\"] * 38.9)\n",
    "    if row[\"Delivery Zone as per X\"]==\"d\":\n",
    "        if row[\"Type of Shipment\"]==\"Forward charges\":\n",
    "            charge = 45.4 + (row[\"Additional_Slabs_asper_X\"] * 44.8)\n",
    "        elif row[\"Type of Shipment\"]==\"Forward and RTO charges\":\n",
    "            charge = (45.4 + (row[\"Additional_Slabs_asper_X\"] * 44.8)) + (41.3 + row[\"Additional_Slabs_asper_X\"] * 44.8)\n",
    "    if row[\"Delivery Zone as per X\"]==\"e\":\n",
    "        if row[\"Type of Shipment\"]==\"Forward charges\":\n",
    "            charge = 56.6 + (row[\"Additional_Slabs_asper_X\"] * 55.5)\n",
    "        elif row[\"Type of Shipment\"]==\"Forward and RTO charges\":\n",
    "            charge = (56.6 + (row[\"Additional_Slabs_asper_X\"] * 55.5)) + (50.7 + row[\"Additional_Slabs_asper_X\"] * 55.5)\n",
    "    return(charge)"
   ]
  },
  {
   "cell_type": "code",
   "execution_count": 280,
   "metadata": {},
   "outputs": [],
   "source": [
    "df3[\"Charge\"]=df3.apply(X_charge,axis=1)"
   ]
  },
  {
   "cell_type": "code",
   "execution_count": 281,
   "metadata": {},
   "outputs": [
    {
     "data": {
      "text/plain": [
       "33.0     372\n",
       "45.4     108\n",
       "56.6      29\n",
       "86.7      28\n",
       "53.5      17\n",
       "61.3       8\n",
       "107.3      5\n",
       "Name: Charge, dtype: int64"
      ]
     },
     "execution_count": 281,
     "metadata": {},
     "output_type": "execute_result"
    }
   ],
   "source": [
    "df3[\"Charge\"].value_counts()"
   ]
  },
  {
   "cell_type": "markdown",
   "metadata": {},
   "source": [
    "**Calculating Total Charge as per the Company**"
   ]
  },
  {
   "cell_type": "code",
   "execution_count": 282,
   "metadata": {},
   "outputs": [],
   "source": [
    "def tot_charge(row):\n",
    "    if row[\"Payment Mode\"]==\"Prepaid\":\n",
    "        return(row[\"Charge\"])\n",
    "    if row[\"Payment Mode\"]==\"COD\":\n",
    "        if row[\"Charge\"]<=300:\n",
    "            return(row[\"Charge\"] + 15)\n",
    "        else:\n",
    "            return(row[\"Charge\"] * 1.05)"
   ]
  },
  {
   "cell_type": "code",
   "execution_count": 283,
   "metadata": {},
   "outputs": [],
   "source": [
    "df3[\"Expected Charge as per X (Rs.)\"]=df3.apply(tot_charge, axis=1)"
   ]
  },
  {
   "cell_type": "code",
   "execution_count": 284,
   "metadata": {},
   "outputs": [
    {
     "data": {
      "text/plain": [
       "33.0     187\n",
       "48.0     185\n",
       "45.4      70\n",
       "60.4      38\n",
       "71.6      26\n",
       "86.7      21\n",
       "68.5      11\n",
       "101.7      7\n",
       "53.5       6\n",
       "122.3      5\n",
       "61.3       4\n",
       "76.3       4\n",
       "56.6       3\n",
       "Name: Expected Charge as per X (Rs.), dtype: int64"
      ]
     },
     "execution_count": 284,
     "metadata": {},
     "output_type": "execute_result"
    }
   ],
   "source": [
    "df3[\"Expected Charge as per X (Rs.)\"].value_counts()"
   ]
  },
  {
   "cell_type": "markdown",
   "metadata": {},
   "source": [
    "**Renaming the column names to get desired output:**"
   ]
  },
  {
   "cell_type": "code",
   "execution_count": 285,
   "metadata": {},
   "outputs": [],
   "source": [
    "df3.rename(columns={\"AWB Code\":\"AWB Number\",\"Charged Weight\":\"Total weight as per Courier Company (KG)\",\"Zone\":\"Delivery Zone charged by Courier Company\",\"Billing Amount (Rs.)\":\"Charges Billed by Courier Company (Rs.)\"},inplace=True)"
   ]
  },
  {
   "cell_type": "markdown",
   "metadata": {},
   "source": [
    "**Calculating Difference Between Expected Charges and Billed Charges (Rs.)**"
   ]
  },
  {
   "cell_type": "code",
   "execution_count": 286,
   "metadata": {},
   "outputs": [],
   "source": [
    "df3[\"Difference Between Expected Charges and Billed Charges (Rs.)\"]=df3[\"Expected Charge as per X (Rs.)\"]-df3[\"Charges Billed by Courier Company (Rs.)\"]"
   ]
  },
  {
   "cell_type": "code",
   "execution_count": 287,
   "metadata": {},
   "outputs": [],
   "source": [
    "columns=[\"AWB Number\", \"Total weight as per X (KG)\", \"Weight slab as per X (KG)\",\"Total weight as per Courier Company (KG)\",\"Weight slab charged by Courier Company (KG)\", \"Delivery Zone as per X\",\"Delivery Zone charged by Courier Company\",\"Expected Charge as per X (Rs.)\",\"Charges Billed by Courier Company (Rs.)\",\"Difference Between Expected Charges and Billed Charges (Rs.)\"]"
   ]
  },
  {
   "cell_type": "markdown",
   "metadata": {},
   "source": [
    "**Getting desired dataframe as output:**"
   ]
  },
  {
   "cell_type": "code",
   "execution_count": 253,
   "metadata": {},
   "outputs": [],
   "source": [
    "final_df=df3[columns]"
   ]
  },
  {
   "cell_type": "code",
   "execution_count": 254,
   "metadata": {},
   "outputs": [
    {
     "data": {
      "text/html": [
       "<div>\n",
       "<style scoped>\n",
       "    .dataframe tbody tr th:only-of-type {\n",
       "        vertical-align: middle;\n",
       "    }\n",
       "\n",
       "    .dataframe tbody tr th {\n",
       "        vertical-align: top;\n",
       "    }\n",
       "\n",
       "    .dataframe thead th {\n",
       "        text-align: right;\n",
       "    }\n",
       "</style>\n",
       "<table border=\"1\" class=\"dataframe\">\n",
       "  <thead>\n",
       "    <tr style=\"text-align: right;\">\n",
       "      <th></th>\n",
       "      <th>AWB Number</th>\n",
       "      <th>Total weight as per X (KG)</th>\n",
       "      <th>Weight slab as per X (KG)</th>\n",
       "      <th>Total weight as per Courier Company (KG)</th>\n",
       "      <th>Weight slab charged by Courier Company (KG)</th>\n",
       "      <th>Delivery Zone as per X</th>\n",
       "      <th>Delivery Zone charged by Courier Company</th>\n",
       "      <th>Expected Charge as per X (Rs.)</th>\n",
       "      <th>Charges Billed by Courier Company (Rs.)</th>\n",
       "      <th>Difference Between Expected Charges and Billed Charges (Rs.)</th>\n",
       "    </tr>\n",
       "  </thead>\n",
       "  <tbody>\n",
       "    <tr>\n",
       "      <th>0</th>\n",
       "      <td>1091122418320</td>\n",
       "      <td>0.127</td>\n",
       "      <td>1.50</td>\n",
       "      <td>1.60</td>\n",
       "      <td>2.0</td>\n",
       "      <td>e</td>\n",
       "      <td>b</td>\n",
       "      <td>71.6</td>\n",
       "      <td>117.9</td>\n",
       "      <td>-46.3</td>\n",
       "    </tr>\n",
       "    <tr>\n",
       "      <th>1</th>\n",
       "      <td>1091122418320</td>\n",
       "      <td>0.150</td>\n",
       "      <td>1.50</td>\n",
       "      <td>1.60</td>\n",
       "      <td>2.0</td>\n",
       "      <td>e</td>\n",
       "      <td>b</td>\n",
       "      <td>71.6</td>\n",
       "      <td>117.9</td>\n",
       "      <td>-46.3</td>\n",
       "    </tr>\n",
       "    <tr>\n",
       "      <th>2</th>\n",
       "      <td>1091122418320</td>\n",
       "      <td>0.100</td>\n",
       "      <td>1.50</td>\n",
       "      <td>1.60</td>\n",
       "      <td>2.0</td>\n",
       "      <td>e</td>\n",
       "      <td>b</td>\n",
       "      <td>71.6</td>\n",
       "      <td>117.9</td>\n",
       "      <td>-46.3</td>\n",
       "    </tr>\n",
       "    <tr>\n",
       "      <th>3</th>\n",
       "      <td>1091122418320</td>\n",
       "      <td>0.165</td>\n",
       "      <td>1.50</td>\n",
       "      <td>1.60</td>\n",
       "      <td>2.0</td>\n",
       "      <td>e</td>\n",
       "      <td>b</td>\n",
       "      <td>71.6</td>\n",
       "      <td>117.9</td>\n",
       "      <td>-46.3</td>\n",
       "    </tr>\n",
       "    <tr>\n",
       "      <th>4</th>\n",
       "      <td>1091122418320</td>\n",
       "      <td>0.350</td>\n",
       "      <td>1.50</td>\n",
       "      <td>1.60</td>\n",
       "      <td>2.0</td>\n",
       "      <td>e</td>\n",
       "      <td>b</td>\n",
       "      <td>71.6</td>\n",
       "      <td>117.9</td>\n",
       "      <td>-46.3</td>\n",
       "    </tr>\n",
       "    <tr>\n",
       "      <th>...</th>\n",
       "      <td>...</td>\n",
       "      <td>...</td>\n",
       "      <td>...</td>\n",
       "      <td>...</td>\n",
       "      <td>...</td>\n",
       "      <td>...</td>\n",
       "      <td>...</td>\n",
       "      <td>...</td>\n",
       "      <td>...</td>\n",
       "      <td>...</td>\n",
       "    </tr>\n",
       "    <tr>\n",
       "      <th>562</th>\n",
       "      <td>1091117222146</td>\n",
       "      <td>0.115</td>\n",
       "      <td>1.25</td>\n",
       "      <td>1.27</td>\n",
       "      <td>2.5</td>\n",
       "      <td>d</td>\n",
       "      <td>d</td>\n",
       "      <td>45.4</td>\n",
       "      <td>135.0</td>\n",
       "      <td>-89.6</td>\n",
       "    </tr>\n",
       "    <tr>\n",
       "      <th>563</th>\n",
       "      <td>1091117222146</td>\n",
       "      <td>0.130</td>\n",
       "      <td>1.25</td>\n",
       "      <td>1.27</td>\n",
       "      <td>2.5</td>\n",
       "      <td>d</td>\n",
       "      <td>d</td>\n",
       "      <td>45.4</td>\n",
       "      <td>135.0</td>\n",
       "      <td>-89.6</td>\n",
       "    </tr>\n",
       "    <tr>\n",
       "      <th>564</th>\n",
       "      <td>1091117222135</td>\n",
       "      <td>0.115</td>\n",
       "      <td>0.50</td>\n",
       "      <td>0.78</td>\n",
       "      <td>1.0</td>\n",
       "      <td>b</td>\n",
       "      <td>b</td>\n",
       "      <td>33.0</td>\n",
       "      <td>61.3</td>\n",
       "      <td>-28.3</td>\n",
       "    </tr>\n",
       "    <tr>\n",
       "      <th>565</th>\n",
       "      <td>1091117222135</td>\n",
       "      <td>0.130</td>\n",
       "      <td>0.50</td>\n",
       "      <td>0.78</td>\n",
       "      <td>1.0</td>\n",
       "      <td>b</td>\n",
       "      <td>b</td>\n",
       "      <td>33.0</td>\n",
       "      <td>61.3</td>\n",
       "      <td>-28.3</td>\n",
       "    </tr>\n",
       "    <tr>\n",
       "      <th>566</th>\n",
       "      <td>1091117324346</td>\n",
       "      <td>0.490</td>\n",
       "      <td>0.50</td>\n",
       "      <td>2.28</td>\n",
       "      <td>2.5</td>\n",
       "      <td>b</td>\n",
       "      <td>d</td>\n",
       "      <td>48.0</td>\n",
       "      <td>235.6</td>\n",
       "      <td>-187.6</td>\n",
       "    </tr>\n",
       "  </tbody>\n",
       "</table>\n",
       "<p>567 rows × 10 columns</p>\n",
       "</div>"
      ],
      "text/plain": [
       "        AWB Number  Total weight as per X (KG)  Weight slab as per X (KG)  \\\n",
       "0    1091122418320                       0.127                       1.50   \n",
       "1    1091122418320                       0.150                       1.50   \n",
       "2    1091122418320                       0.100                       1.50   \n",
       "3    1091122418320                       0.165                       1.50   \n",
       "4    1091122418320                       0.350                       1.50   \n",
       "..             ...                         ...                        ...   \n",
       "562  1091117222146                       0.115                       1.25   \n",
       "563  1091117222146                       0.130                       1.25   \n",
       "564  1091117222135                       0.115                       0.50   \n",
       "565  1091117222135                       0.130                       0.50   \n",
       "566  1091117324346                       0.490                       0.50   \n",
       "\n",
       "     Total weight as per Courier Company (KG)  \\\n",
       "0                                        1.60   \n",
       "1                                        1.60   \n",
       "2                                        1.60   \n",
       "3                                        1.60   \n",
       "4                                        1.60   \n",
       "..                                        ...   \n",
       "562                                      1.27   \n",
       "563                                      1.27   \n",
       "564                                      0.78   \n",
       "565                                      0.78   \n",
       "566                                      2.28   \n",
       "\n",
       "     Weight slab charged by Courier Company (KG) Delivery Zone as per X  \\\n",
       "0                                            2.0                      e   \n",
       "1                                            2.0                      e   \n",
       "2                                            2.0                      e   \n",
       "3                                            2.0                      e   \n",
       "4                                            2.0                      e   \n",
       "..                                           ...                    ...   \n",
       "562                                          2.5                      d   \n",
       "563                                          2.5                      d   \n",
       "564                                          1.0                      b   \n",
       "565                                          1.0                      b   \n",
       "566                                          2.5                      b   \n",
       "\n",
       "    Delivery Zone charged by Courier Company  Expected Charge as per X (Rs.)  \\\n",
       "0                                          b                            71.6   \n",
       "1                                          b                            71.6   \n",
       "2                                          b                            71.6   \n",
       "3                                          b                            71.6   \n",
       "4                                          b                            71.6   \n",
       "..                                       ...                             ...   \n",
       "562                                        d                            45.4   \n",
       "563                                        d                            45.4   \n",
       "564                                        b                            33.0   \n",
       "565                                        b                            33.0   \n",
       "566                                        d                            48.0   \n",
       "\n",
       "     Charges Billed by Courier Company (Rs.)  \\\n",
       "0                                      117.9   \n",
       "1                                      117.9   \n",
       "2                                      117.9   \n",
       "3                                      117.9   \n",
       "4                                      117.9   \n",
       "..                                       ...   \n",
       "562                                    135.0   \n",
       "563                                    135.0   \n",
       "564                                     61.3   \n",
       "565                                     61.3   \n",
       "566                                    235.6   \n",
       "\n",
       "     Difference Between Expected Charges and Billed Charges (Rs.)  \n",
       "0                                                -46.3             \n",
       "1                                                -46.3             \n",
       "2                                                -46.3             \n",
       "3                                                -46.3             \n",
       "4                                                -46.3             \n",
       "..                                                 ...             \n",
       "562                                              -89.6             \n",
       "563                                              -89.6             \n",
       "564                                              -28.3             \n",
       "565                                              -28.3             \n",
       "566                                             -187.6             \n",
       "\n",
       "[567 rows x 10 columns]"
      ]
     },
     "execution_count": 254,
     "metadata": {},
     "output_type": "execute_result"
    }
   ],
   "source": [
    "final_df"
   ]
  },
  {
   "cell_type": "markdown",
   "metadata": {},
   "source": [
    "**Save to the Excel Format:**"
   ]
  },
  {
   "cell_type": "code",
   "execution_count": 256,
   "metadata": {},
   "outputs": [],
   "source": [
    "final_df.to_excel(\"result.xlsx\")"
   ]
  },
  {
   "cell_type": "code",
   "execution_count": null,
   "metadata": {},
   "outputs": [],
   "source": []
  }
 ],
 "metadata": {
  "kernelspec": {
   "display_name": "base",
   "language": "python",
   "name": "python3"
  },
  "language_info": {
   "codemirror_mode": {
    "name": "ipython",
    "version": 3
   },
   "file_extension": ".py",
   "mimetype": "text/x-python",
   "name": "python",
   "nbconvert_exporter": "python",
   "pygments_lexer": "ipython3",
   "version": "3.10.9"
  },
  "orig_nbformat": 4,
  "vscode": {
   "interpreter": {
    "hash": "3c06e3e46abf38078fe4dac36a0085ec2b134ebbd73dd076183d243eeca6918f"
   }
  }
 },
 "nbformat": 4,
 "nbformat_minor": 2
}
